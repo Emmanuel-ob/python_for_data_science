{
 "cells": [
  {
   "cell_type": "code",
   "execution_count": 3,
   "id": "b65cde1a",
   "metadata": {},
   "outputs": [
    {
     "name": "stdout",
     "output_type": "stream",
     "text": [
      "writing into file completed\n"
     ]
    }
   ],
   "source": [
    "#Writing to a file using the write access mode\n",
    "file_obj = open(\"file_io_example.txt\", \"w\")\n",
    "file_obj.write(\"\\n New text 1\")\n",
    "file_obj.write(\"\\n New text 2\")\n",
    "file_obj.write(\"\\n New text 3\")\n",
    "file_obj.close()\n",
    "print(\"writing into file completed\")"
   ]
  },
  {
   "cell_type": "code",
   "execution_count": 4,
   "id": "694e912d",
   "metadata": {},
   "outputs": [
    {
     "name": "stdout",
     "output_type": "stream",
     "text": [
      "\n",
      " New text 1\n",
      " New text 2\n",
      " New text 3\n"
     ]
    }
   ],
   "source": [
    "file_obj = open(\"file_io_example.txt\", \"r\")\n",
    "new_text = file_obj.read()\n",
    "file_obj.close()\n",
    "print(new_text)"
   ]
  },
  {
   "cell_type": "code",
   "execution_count": null,
   "id": "eb9f650a",
   "metadata": {},
   "outputs": [],
   "source": []
  },
  {
   "cell_type": "code",
   "execution_count": 5,
   "id": "f1a5204a",
   "metadata": {},
   "outputs": [
    {
     "name": "stdout",
     "output_type": "stream",
     "text": [
      "writing into file completed\n"
     ]
    }
   ],
   "source": [
    "#Writing to a file using the append mode\n",
    "file_obj = open(\"file_io_example.txt\", \"a\")\n",
    "file_obj.write(\"\\n New text 1\")\n",
    "file_obj.write(\"\\n New text 2\")\n",
    "file_obj.write(\"\\n New text 3\")\n",
    "file_obj.close()\n",
    "print(\"writing into file completed\")"
   ]
  },
  {
   "cell_type": "code",
   "execution_count": 2,
   "id": "caac7b61",
   "metadata": {},
   "outputs": [
    {
     "name": "stdout",
     "output_type": "stream",
     "text": [
      "\n",
      " New text 1\n",
      " New text 2\n",
      " New text 3\n",
      " New text 1\n",
      " New text 2\n",
      " New text 3\n",
      " Append+ New text 1\n",
      " Append+ New text 2\n",
      " Append+ New text 3\n",
      " Append+ New text 1\n",
      " Append+ New text 2\n",
      " Append+ New text 3\n"
     ]
    }
   ],
   "source": [
    "file_obj = open(\"file_io_example.txt\", \"r\")\n",
    "new_text = file_obj.read()\n",
    "file_obj.close()\n",
    "print(new_text)"
   ]
  },
  {
   "cell_type": "code",
   "execution_count": 2,
   "id": "2d3b04f4",
   "metadata": {},
   "outputs": [
    {
     "name": "stdout",
     "output_type": "stream",
     "text": [
      "writing into file completed\n",
      "\n",
      " New text 1\n",
      " New text 2\n",
      " New text 3\n",
      " New text 1\n",
      " New text 2\n",
      " New text 3\n",
      " Append+ New text 1\n",
      " Append+ New text 2\n",
      " Append+ New text 3\n",
      " Append+ New text 1\n",
      " Append+ New text 2\n",
      " Append+ New text 3\n",
      " Append+ New text 1\n",
      " Append+ New text 2\n",
      " Append+ New text 3 Append+ New text 1 Append+ New text 2 Append+ New text 3\n"
     ]
    }
   ],
   "source": [
    "#Writing to a file using the append mode\n",
    "file_obj = open(\"file_io_example.txt\", \"a+\")\n",
    "file_obj.write(\"\\n Append+ New text 1\")\n",
    "file_obj.write(\"\\n Append+ New text 2\")\n",
    "file_obj.write(\"\\n Append+ New text 3\")\n",
    "print(\"writing into file completed\")\n",
    "file_obj.seek(0)\n",
    "text = file_obj.read()\n",
    "file_obj.close()\n",
    "print(text)"
   ]
  },
  {
   "cell_type": "code",
   "execution_count": 3,
   "id": "06368695",
   "metadata": {},
   "outputs": [
    {
     "name": "stdout",
     "output_type": "stream",
     "text": [
      "New text 1\n",
      "\n",
      " New text 2\n",
      "\n"
     ]
    }
   ],
   "source": [
    "file_obj = open(\"file_io_example.txt\", \"r\")\n",
    "new_text = file_obj.readline()\n",
    "print(new_text)\n",
    "new_text_line2 = file_obj.readline()\n",
    "file_obj.close()\n",
    "print(new_text_line2)\n"
   ]
  },
  {
   "cell_type": "code",
   "execution_count": null,
   "id": "cd95697b",
   "metadata": {},
   "outputs": [],
   "source": []
  }
 ],
 "metadata": {
  "kernelspec": {
   "display_name": "Python 3 (ipykernel)",
   "language": "python",
   "name": "python3"
  },
  "language_info": {
   "codemirror_mode": {
    "name": "ipython",
    "version": 3
   },
   "file_extension": ".py",
   "mimetype": "text/x-python",
   "name": "python",
   "nbconvert_exporter": "python",
   "pygments_lexer": "ipython3",
   "version": "3.10.9"
  }
 },
 "nbformat": 4,
 "nbformat_minor": 5
}
