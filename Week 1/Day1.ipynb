{
 "cells": [
  {
   "cell_type": "code",
   "execution_count": 4,
   "id": "4aca9787",
   "metadata": {},
   "outputs": [
    {
     "name": "stdout",
     "output_type": "stream",
     "text": [
      "The are of the circle = 78.55\n"
     ]
    }
   ],
   "source": [
    "#This calculates the area of a circle\n",
    "#pi * (r * r)\n",
    "pi = 3.142\n",
    "r = 5\n",
    "area = pi * (r ** 2)\n",
    "print('The are of the circle =', area)"
   ]
  },
  {
   "cell_type": "code",
   "execution_count": 6,
   "id": "0d9f06ee",
   "metadata": {},
   "outputs": [
    {
     "name": "stdout",
     "output_type": "stream",
     "text": [
      "Python class \n",
      "week 1\n",
      "Introduction to python\n"
     ]
    }
   ],
   "source": [
    "#File input and ouput\n",
    "#C:/Users/LENOV/Documents/Python Data Science/Week 1/file_io_example.txt\n",
    "file_obj = open(\"file_io_example.txt\", \"r\")\n",
    "my_text = file_obj.read()\n",
    "file_obj.close()\n",
    "print(my_text)"
   ]
  },
  {
   "cell_type": "code",
   "execution_count": null,
   "id": "048e1fd8",
   "metadata": {},
   "outputs": [],
   "source": []
  },
  {
   "cell_type": "code",
   "execution_count": null,
   "id": "0e1dd015",
   "metadata": {},
   "outputs": [],
   "source": []
  }
 ],
 "metadata": {
  "kernelspec": {
   "display_name": "Python 3 (ipykernel)",
   "language": "python",
   "name": "python3"
  },
  "language_info": {
   "codemirror_mode": {
    "name": "ipython",
    "version": 3
   },
   "file_extension": ".py",
   "mimetype": "text/x-python",
   "name": "python",
   "nbconvert_exporter": "python",
   "pygments_lexer": "ipython3",
   "version": "3.10.9"
  }
 },
 "nbformat": 4,
 "nbformat_minor": 5
}
